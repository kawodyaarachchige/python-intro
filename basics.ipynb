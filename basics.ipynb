{
 "cells": [
  {
   "cell_type": "code",
   "execution_count": 2,
   "metadata": {},
   "outputs": [
    {
     "name": "stdout",
     "output_type": "stream",
     "text": [
      "[9, 0]\n"
     ]
    }
   ],
   "source": [
    "my_list_2=[2,9,0,5,\"cat\"] #get range what we want\n",
    "print(my_list_2[1:3])"
   ]
  },
  {
   "cell_type": "code",
   "execution_count": 11,
   "metadata": {},
   "outputs": [
    {
     "name": "stdout",
     "output_type": "stream",
     "text": [
      "[2, 9]\n"
     ]
    }
   ],
   "source": [
    "print(my_list_2[:2])#we not using 0 index with getting range"
   ]
  },
  {
   "cell_type": "code",
   "execution_count": 10,
   "metadata": {},
   "outputs": [
    {
     "name": "stdout",
     "output_type": "stream",
     "text": [
      "[0, 5, 'cat']\n"
     ]
    }
   ],
   "source": [
    "print(my_list_2[2:])"
   ]
  },
  {
   "cell_type": "code",
   "execution_count": 13,
   "metadata": {},
   "outputs": [
    {
     "name": "stdout",
     "output_type": "stream",
     "text": [
      "[1, 10, 'Dog', '19.0', 8, True]\n"
     ]
    }
   ],
   "source": [
    "my_list=[1,10,10,\"cat\",8,True]\n",
    "my_list[2:4]=[\"Dog\",\"19.0\"]\n",
    "print(my_list)"
   ]
  },
  {
   "cell_type": "code",
   "execution_count": 18,
   "metadata": {},
   "outputs": [
    {
     "name": "stdout",
     "output_type": "stream",
     "text": [
      "[1, 10, 'Rabbit', 10, 'cat', 8, True]\n"
     ]
    }
   ],
   "source": [
    "#adding new value in list we\n",
    "my_list_3 =[1,10,10,\"cat\",8,True]\n",
    "my_list_3.insert(2,\"Rabbit\")\n",
    "print(my_list_3)"
   ]
  },
  {
   "cell_type": "code",
   "execution_count": 20,
   "metadata": {},
   "outputs": [
    {
     "name": "stdout",
     "output_type": "stream",
     "text": [
      "[1, 2, 5, 6, 'Car']\n"
     ]
    }
   ],
   "source": [
    "#adding new value in list end \n",
    "my_list_4=[1,2,5,6]\n",
    "my_list_4.append(\"Car\")\n",
    "print(my_list_4)"
   ]
  },
  {
   "cell_type": "code",
   "execution_count": 4,
   "metadata": {},
   "outputs": [
    {
     "name": "stdout",
     "output_type": "stream",
     "text": [
      "[1, 2, 5, 6, 'Bus', 'van', 'Cycle'] length is  7\n"
     ]
    }
   ],
   "source": [
    "#merge 2 lists\n",
    "my_list_4=[1,2,5,6]\n",
    "new_list=[\"Bus\",\"van\",\"Cycle\"]\n",
    "my_list_4.extend(new_list)\n",
    "print(my_list_4,\"length is \",len(my_list_4))"
   ]
  },
  {
   "cell_type": "code",
   "execution_count": 7,
   "metadata": {},
   "outputs": [
    {
     "name": "stdout",
     "output_type": "stream",
     "text": [
      "[1, 5, 6] length is  3\n"
     ]
    }
   ],
   "source": [
    "#remove elements specific position\n",
    "my_list_4=[1,2,5,6]\n",
    "my_list_4.pop(1)\n",
    "print(my_list_4,\"length is \",len(my_list_4))\n",
    "\n"
   ]
  },
  {
   "cell_type": "code",
   "execution_count": 10,
   "metadata": {},
   "outputs": [
    {
     "name": "stdout",
     "output_type": "stream",
     "text": [
      "[1, 2, 4]\n"
     ]
    }
   ],
   "source": [
    " # Deletes the element at index 2\n",
    "my_list = [1, 2, 3, 4]\n",
    "del my_list[2] \n",
    "print(my_list)\n",
    "#we can destory the list\n",
    "#del my_list\n",
    "\n"
   ]
  },
  {
   "cell_type": "code",
   "execution_count": 11,
   "metadata": {},
   "outputs": [
    {
     "name": "stdout",
     "output_type": "stream",
     "text": [
      "0\n"
     ]
    }
   ],
   "source": [
    "my_list =[1, 2, 3, 4]#clear the values not list\n",
    "my_list.clear()\n",
    "print(len(my_list))"
   ]
  },
  {
   "cell_type": "code",
   "execution_count": 21,
   "metadata": {},
   "outputs": [
    {
     "name": "stdout",
     "output_type": "stream",
     "text": [
      "['apple', 'banana', 'dog', 'parrot']\n"
     ]
    }
   ],
   "source": [
    "my_list=[\"dog\",\"apple\",\"parrot\",\"banana\"]#sorting list case sensitive (uppercase) \n",
    "my_list.sort()#accending order\n",
    "#my_list.sort(key=str.lower) use this dont care the case sensitive\n",
    "#my_list.sort(reverse=True)#decending sort\n",
    "print(my_list)"
   ]
  },
  {
   "cell_type": "code",
   "execution_count": null,
   "metadata": {},
   "outputs": [
    {
     "name": "stdout",
     "output_type": "stream",
     "text": [
      "[-18, -10, -3, -3, 2, 4, 5, 7, 8, 9, 11, 12, 12]\n",
      "6\n",
      "median is 5\n",
      "3\n",
      "q1 is -3\n",
      "q3 is 9\n"
     ]
    }
   ],
   "source": [
    "my_list_1 =[-10,-18,12,5,7,12,-3]\n",
    "my_list_2 =[8,4,-3,9,2,11]\n",
    "\n",
    "my_list_1.extend(my_list_2)\n",
    "my_list_1.sort()\n",
    "print(my_list_1)\n",
    "\n",
    "s =int(len(my_list_1)/2)\n",
    "print(s)\n",
    "\n",
    "print(\"median is\",my_list_1[s])\n",
    "\n",
    "q1 =int(s/2)\n",
    "print(q1)\n",
    "print(\"q1 is\",my_list_1[q1])\n",
    "\n",
    "q3=q1+s\n",
    "print(\"q3 is\",my_list_1[q3])\n",
    " "
   ]
  },
  {
   "cell_type": "code",
   "execution_count": null,
   "metadata": {},
   "outputs": [
    {
     "name": "stdout",
     "output_type": "stream",
     "text": [
      "hello k\n"
     ]
    }
   ],
   "source": [
    "name = input(\"Enter Your Name :\")#input\n",
    "print(f\"hello {name}\");#f used formatted strings &# embed variables directly in strings using {} {name}"
   ]
  },
  {
   "cell_type": "code",
   "execution_count": 8,
   "metadata": {},
   "outputs": [
    {
     "name": "stdout",
     "output_type": "stream",
     "text": [
      "You are 45 years old.\n"
     ]
    }
   ],
   "source": [
    "age = input(\"Enter your age: \")      # This will be a string\n",
    "age = int(age)                        # Convert to an integer\n",
    "print(f\"You are {age} years old.\")"
   ]
  },
  {
   "cell_type": "code",
   "execution_count": 17,
   "metadata": {},
   "outputs": [
    {
     "name": "stdout",
     "output_type": "stream",
     "text": [
      "the sum is 16\n"
     ]
    }
   ],
   "source": [
    "#multiple inputs in one line\n",
    "num1 ,num2 = input(\"Enter Numbers :\".split())\n",
    "num1= int(num1)\n",
    "num2 =int(num2)\n",
    "print(f\"the sum is {num1 + num2}\")"
   ]
  },
  {
   "cell_type": "code",
   "execution_count": 21,
   "metadata": {},
   "outputs": [
    {
     "name": "stdout",
     "output_type": "stream",
     "text": [
      "you are teenger\n"
     ]
    }
   ],
   "source": [
    "age =int(input(\"Enter ur age ;\"))\n",
    "if age>=18:\n",
    "    print(\"you are an adult\")\n",
    "elif age< 18 and age>13:\n",
    "    print(\"you are teenger\")\n",
    "else :\n",
    "    print(\"ur nothing\")"
   ]
  },
  {
   "cell_type": "code",
   "execution_count": 24,
   "metadata": {},
   "outputs": [
    {
     "name": "stdout",
     "output_type": "stream",
     "text": [
      "Another weekday\n"
     ]
    }
   ],
   "source": [
    "day = input(\"Enter day :\")\n",
    "match day:\n",
    "    case \"Monday\":\n",
    "        print(\"Start of the work week!\")\n",
    "    case \"Friday\":\n",
    "        print(\"Almost weekend!\")\n",
    "    case _:\n",
    "        print(\"Another weekday\")\n"
   ]
  },
  {
   "cell_type": "code",
   "execution_count": 30,
   "metadata": {},
   "outputs": [
    {
     "name": "stdout",
     "output_type": "stream",
     "text": [
      "1\n",
      "2\n",
      "3\n",
      "4\n",
      "5\n",
      "6\n",
      "7\n",
      "8\n",
      "9\n",
      "10\n"
     ]
    }
   ],
   "source": [
    "count = 1\n",
    "while count <= 10:\n",
    " print(count)\n",
    " count += 1\n",
    "\n",
    " \n",
    "\n",
    "\n"
   ]
  },
  {
   "cell_type": "code",
   "execution_count": null,
   "metadata": {},
   "outputs": [
    {
     "name": "stdout",
     "output_type": "stream",
     "text": [
      "Hello, Tk! Tk\n",
      "Hello, Ks! Ks\n",
      "Hello, An! An\n"
     ]
    }
   ],
   "source": [
    "names = [\"Tk\",\"Ks\",\"An\"]\n",
    "for name in names:\n",
    "    print(f\"Hello, {name}!\")"
   ]
  },
  {
   "cell_type": "code",
   "execution_count": 37,
   "metadata": {},
   "outputs": [
    {
     "name": "stdout",
     "output_type": "stream",
     "text": [
      "1\n",
      "2\n",
      "3\n",
      "4\n"
     ]
    }
   ],
   "source": [
    "for i in range(1,10):\n",
    " if i == 5:\n",
    "  break\n",
    " print(i)"
   ]
  },
  {
   "cell_type": "code",
   "execution_count": 38,
   "metadata": {},
   "outputs": [
    {
     "name": "stdout",
     "output_type": "stream",
     "text": [
      "1\n",
      "2\n",
      "3\n",
      "4\n",
      "6\n",
      "7\n",
      "8\n",
      "9\n"
     ]
    }
   ],
   "source": [
    "for i in range(1,10):\n",
    " if i == 5:\n",
    "  continue\n",
    " print(i)"
   ]
  },
  {
   "cell_type": "code",
   "execution_count": 41,
   "metadata": {},
   "outputs": [
    {
     "name": "stdout",
     "output_type": "stream",
     "text": [
      "It is Even Number\n"
     ]
    }
   ],
   "source": [
    "num =int(input(\"enter ur number\"))\n",
    "if num % 2 == 0:\n",
    "    print(\"It is Even Number\")\n",
    "else:\n",
    "    print(\"It is Odd Number\")"
   ]
  },
  {
   "cell_type": "code",
   "execution_count": 47,
   "metadata": {},
   "outputs": [
    {
     "name": "stdout",
     "output_type": "stream",
     "text": [
      "value is : 2\n"
     ]
    }
   ],
   "source": [
    "#calculator\n",
    "num1 = int(input(\"Enter first number :\"))\n",
    "operation = input(\"Enter operation (+, -, *, /):\")\n",
    "num2 = int(input(\"Enter Seconed number :\"))\n",
    "\n",
    "if operation == \"+\":\n",
    "    print(\"value is :\",num1 + num2)\n",
    "elif operation == \"-\":\n",
    "    print(\"value is :\",num1 -num2)\n",
    "elif operation == \"/\":\n",
    "    print(\"valeu is :\",num1/num2)\n",
    "elif operation == \"*\":\n",
    "    print(\"vale is :\",num1*num2)\n",
    "else:\n",
    "    print(\"invalid operation\")\n",
    "\n",
    "\n",
    "\n"
   ]
  },
  {
   "cell_type": "code",
   "execution_count": 52,
   "metadata": {},
   "outputs": [
    {
     "name": "stdout",
     "output_type": "stream",
     "text": [
      "5\n"
     ]
    }
   ],
   "source": [
    "numbers = [3, 1, 4, 1, 5]\n",
    "print(len(numbers))"
   ]
  },
  {
   "cell_type": "code",
   "execution_count": null,
   "metadata": {},
   "outputs": [],
   "source": [
    "#Day 02 lectures"
   ]
  },
  {
   "cell_type": "code",
   "execution_count": 58,
   "metadata": {},
   "outputs": [
    {
     "name": "stdout",
     "output_type": "stream",
     "text": [
      "[20, 13, 'Dog', 70, 80]\n",
      "[20, 'Cat', 'Dog', 70, 80]\n"
     ]
    }
   ],
   "source": [
    "my_list =[20,13,\"Dog\",70,80]\n",
    "my_list_2 = my_list\n",
    "print(my_list_2)\n",
    "my_list [1]= \"Cat\"\n",
    "\n",
    "#this is not valid cause not create new list ,replace current list so we can use copy()\n",
    "print(my_list_2.copy())\n",
    "\n"
   ]
  },
  {
   "cell_type": "code",
   "execution_count": null,
   "metadata": {},
   "outputs": [
    {
     "name": "stdout",
     "output_type": "stream",
     "text": [
      "[20, 13, 'Dog', 70, 80]\n",
      "[20, ['Cat'], 'Dog', 70, 80]\n"
     ]
    }
   ],
   "source": [
    "my_list =[20,13,\"Dog\",70,80]\n",
    "my_list_2 =list(my_list)#constructure\n",
    "print(my_list_2)\n",
    "my_list[1] =[\"Cat\"]\n",
    "print (my_list)\n",
    "\n",
    "\n"
   ]
  },
  {
   "cell_type": "code",
   "execution_count": null,
   "metadata": {},
   "outputs": [
    {
     "name": "stdout",
     "output_type": "stream",
     "text": [
      "[1, 2, 3, 4, 1, 2, 3, 4]\n",
      "8\n"
     ]
    }
   ],
   "source": [
    "my_list_4 = [1,2,3,4]\n",
    "my_list_5 = [1,2,3,4]\n",
    "my_list_6 = my_list_4 + my_list_5 #we can extend like this (merge)\n",
    "print(my_list_6)\n",
    "print(len(my_list_6))"
   ]
  },
  {
   "cell_type": "code",
   "execution_count": null,
   "metadata": {},
   "outputs": [
    {
     "name": "stdout",
     "output_type": "stream",
     "text": [
      "3\n",
      "<class 'tuple'>\n"
     ]
    }
   ],
   "source": [
    "my_tuple_1 = (12,\"Cat\",250) #tuple (act like final cause can change values)\n",
    "print(len(my_tuple_1))\n",
    "print(type(my_tuple_1))"
   ]
  },
  {
   "cell_type": "code",
   "execution_count": null,
   "metadata": {},
   "outputs": [
    {
     "name": "stdout",
     "output_type": "stream",
     "text": [
      "<class 'tuple'>\n"
     ]
    }
   ],
   "source": [
    "my_list_1 =(\"cat\",)#carefully the add a\",\"\n",
    "print(type(my_list_1))\n"
   ]
  },
  {
   "cell_type": "code",
   "execution_count": null,
   "metadata": {},
   "outputs": [
    {
     "ename": "TypeError",
     "evalue": "'tuple' object does not support item assignment",
     "output_type": "error",
     "traceback": [
      "\u001b[0;31m---------------------------------------------------------------------------\u001b[0m",
      "\u001b[0;31mTypeError\u001b[0m                                 Traceback (most recent call last)",
      "Cell \u001b[0;32mIn[77], line 2\u001b[0m\n\u001b[1;32m      1\u001b[0m my_list_1 \u001b[38;5;241m=\u001b[39m(\u001b[38;5;124m\"\u001b[39m\u001b[38;5;124mcat\u001b[39m\u001b[38;5;124m\"\u001b[39m,\u001b[38;5;124m\"\u001b[39m\u001b[38;5;124mTharu\u001b[39m\u001b[38;5;124m\"\u001b[39m,\u001b[38;5;241m1\u001b[39m)\u001b[38;5;66;03m#\u001b[39;00m\n\u001b[0;32m----> 2\u001b[0m \u001b[43mmy_list_1\u001b[49m\u001b[43m[\u001b[49m\u001b[38;5;241;43m1\u001b[39;49m\u001b[43m]\u001b[49m\u001b[38;5;241m=\u001b[39m \u001b[38;5;241m6\u001b[39m\n\u001b[1;32m      3\u001b[0m \u001b[38;5;28mprint\u001b[39m(\u001b[38;5;28mtype\u001b[39m(my_list_1))\n",
      "\u001b[0;31mTypeError\u001b[0m: 'tuple' object does not support item assignment"
     ]
    }
   ],
   "source": [
    "my_tuple_1 =(\"cat\",\"Tharu\",1)#\n",
    "my_tuple_1[1]= 6\n",
    "print(type(my_tuple_1))"
   ]
  },
  {
   "cell_type": "code",
   "execution_count": null,
   "metadata": {},
   "outputs": [
    {
     "name": "stdout",
     "output_type": "stream",
     "text": [
      "('dog', 'Rat', 10) <class 'tuple'>\n"
     ]
    }
   ],
   "source": [
    "my_tuple_1 = (\"dog\",\"cat\",10) #we have workaround solution \n",
    "my_list_1 =list(my_tuple_1)#1st we convert tuple in list using list constarustor\n",
    "my_list_1[1]=\"Rat\"#added  list to value\n",
    "my_tuple_1 = tuple(my_list_1)#and convert it to tuple using tuple construtor\n",
    "print(my_tuple_1,type(my_tuple_1))\n"
   ]
  },
  {
   "cell_type": "code",
   "execution_count": 105,
   "metadata": {},
   "outputs": [
    {
     "name": "stdout",
     "output_type": "stream",
     "text": [
      "[10, 8, 5]\n",
      "[-1, 5, 5, 8, 9, 10, 20]\n"
     ]
    }
   ],
   "source": [
    "my_tuple_5 = (10,8,20,5)\n",
    "my_tuple_6 =(5,9,-1)\n",
    "\n",
    "my_list_8 = list(my_tuple_1)\n",
    "my_list_8.pop(2)\n",
    "print(my_list_8)\n",
    "new_list = list(my_tuple_6 + my_tuple_5)\n",
    "new_list.sort()\n",
    "\n",
    "\n",
    "my_tuple_7 =tuple(new_list)\n",
    "print(new_list)\n",
    "\n",
    "\n"
   ]
  },
  {
   "cell_type": "code",
   "execution_count": null,
   "metadata": {},
   "outputs": [
    {
     "name": "stdout",
     "output_type": "stream",
     "text": [
      "3\n",
      "Cat\n"
     ]
    }
   ],
   "source": [
    "my_tuple_10 =((1,2,3),(\"Dog\",\"Cat\"),(True,False))\n",
    "print(my_tuple_10[0][2])\n",
    "print(my_tuple_10[1][1])\n",
    "\n",
    "\n"
   ]
  },
  {
   "cell_type": "code",
   "execution_count": 133,
   "metadata": {},
   "outputs": [
    {
     "name": "stdout",
     "output_type": "stream",
     "text": [
      "8\n",
      "range(2, 15, 3) <class 'range'>\n"
     ]
    }
   ],
   "source": [
    "numbers =range(2,15,3)\n",
    "print(numbers[2])\n",
    "print(numbers,type(numbers))\n"
   ]
  },
  {
   "cell_type": "code",
   "execution_count": null,
   "metadata": {},
   "outputs": [
    {
     "name": "stdout",
     "output_type": "stream",
     "text": [
      "{'name': 'Suguer', 'Price': 250.45, 'weight': '1 kg'} <class 'dict'>\n",
      "length is : 3\n",
      "weight is : 1 kg\n"
     ]
    }
   ],
   "source": [
    "#we used dictionary store key,values pair \n",
    "dict_1={\n",
    "    \"name\":\"Suguer\",\n",
    "    \"Price\":250.45,\n",
    "    \"weight\":\"1 kg\"\n",
    "     }\n",
    "print(dict_1,type(dict_1))\n",
    "print(\"length is :\", len(dict_1))\n",
    "print(\"weight is :\",dict_1[\"weight\"])"
   ]
  },
  {
   "cell_type": "code",
   "execution_count": 149,
   "metadata": {},
   "outputs": [
    {
     "name": "stdout",
     "output_type": "stream",
     "text": [
      "we can store multiple data types in dictonary  this dict length is : 6\n"
     ]
    }
   ],
   "source": [
    "my_dict2 ={\n",
    "    \"name\":\"Tharu\",\n",
    "    \"age\":25,\n",
    "    \"married\":False,\n",
    "    \"my_list_11\":[1,2,\"kusal\"],\n",
    "    \"tuple_list_11\":(2,\"Ashi\"),\n",
    "    \"dict\":{\n",
    "        \"color\":\"pink\",\n",
    "        \"shape\":\"round\",\n",
    "    }\n",
    "}\n",
    "print(\"we can store multiple data types in dictonary \",\"this dict length is :\",len(my_dict2))"
   ]
  },
  {
   "cell_type": "code",
   "execution_count": null,
   "metadata": {},
   "outputs": [
    {
     "name": "stdout",
     "output_type": "stream",
     "text": [
      "{'name': 'Suguer', 'Price': 300, 'weight': '1 kg'}\n"
     ]
    }
   ],
   "source": [
    "#modify values \n",
    "dict_3={\n",
    "    \"name\":\"Sugar\",\n",
    "    \"Price\":250.45,\n",
    "    \"weight\":\"1 kg\"\n",
    "     }\n",
    "dict_3[\"Price\"] = 400\n",
    "print(dict_3)\n"
   ]
  },
  {
   "cell_type": "code",
   "execution_count": 162,
   "metadata": {},
   "outputs": [
    {
     "name": "stdout",
     "output_type": "stream",
     "text": [
      "{'name': 'Suguer', 'weight': '2 kg', 'Price': 300.0, 'color': 'White'} 4\n"
     ]
    }
   ],
   "source": [
    "#inbuild method\n",
    "dict_3.update({\n",
    "               \"weight\":\"2 kg\",\n",
    "               \"Price\":300.0\n",
    "               })\n",
    "#add anoter item\n",
    "dict_3[\"color\"] = \"White\"\n",
    "print(dict_3,len(dict_3))\n"
   ]
  },
  {
   "cell_type": "code",
   "execution_count": 163,
   "metadata": {},
   "outputs": [
    {
     "name": "stdout",
     "output_type": "stream",
     "text": [
      "{'name': 'Suguer', 'Price': 300.0, 'color': 'White'}\n"
     ]
    }
   ],
   "source": [
    "#remove item\n",
    "dict_3.pop(\"weight\")\n",
    "print(dict_3)"
   ]
  },
  {
   "cell_type": "code",
   "execution_count": 159,
   "metadata": {},
   "outputs": [
    {
     "name": "stdout",
     "output_type": "stream",
     "text": [
      "{'name': 'Suguer', 'Price': 300.0}\n"
     ]
    }
   ],
   "source": [
    "#remove last item\n",
    "dict_3.popitem()\n",
    "print(dict_3)"
   ]
  },
  {
   "cell_type": "code",
   "execution_count": 164,
   "metadata": {},
   "outputs": [
    {
     "name": "stdout",
     "output_type": "stream",
     "text": [
      "{'name': 'Suguer', 'color': 'White'}\n"
     ]
    }
   ],
   "source": [
    "del dict_3[\"Price\"]\n",
    "print(dict_3)"
   ]
  },
  {
   "cell_type": "code",
   "execution_count": 167,
   "metadata": {},
   "outputs": [
    {
     "name": "stdout",
     "output_type": "stream",
     "text": [
      "0\n"
     ]
    }
   ],
   "source": [
    "dict_3.clear()\n",
    "print(len(dict_3))"
   ]
  },
  {
   "cell_type": "code",
   "execution_count": 168,
   "metadata": {},
   "outputs": [
    {
     "ename": "NameError",
     "evalue": "name 'dict_3' is not defined",
     "output_type": "error",
     "traceback": [
      "\u001b[0;31m---------------------------------------------------------------------------\u001b[0m",
      "\u001b[0;31mNameError\u001b[0m                                 Traceback (most recent call last)",
      "Cell \u001b[0;32mIn[168], line 5\u001b[0m\n\u001b[1;32m      1\u001b[0m dict_3 \u001b[38;5;241m=\u001b[39m {\n\u001b[1;32m      2\u001b[0m     \u001b[38;5;124m\"\u001b[39m\u001b[38;5;124mname\u001b[39m\u001b[38;5;124m\"\u001b[39m:\u001b[38;5;124m\"\u001b[39m\u001b[38;5;124mTharu\u001b[39m\u001b[38;5;124m\"\u001b[39m\n\u001b[1;32m      3\u001b[0m }\n\u001b[1;32m      4\u001b[0m \u001b[38;5;28;01mdel\u001b[39;00m dict_3\n\u001b[0;32m----> 5\u001b[0m \u001b[38;5;28mprint\u001b[39m(\u001b[38;5;28mlen\u001b[39m(\u001b[43mdict_3\u001b[49m))\n",
      "\u001b[0;31mNameError\u001b[0m: name 'dict_3' is not defined"
     ]
    }
   ],
   "source": [
    "dict_3 = {\n",
    "    \"name\":\"Tharu\"\n",
    "}\n",
    "del dict_3\n",
    "print(len(dict_3))"
   ]
  },
  {
   "cell_type": "code",
   "execution_count": null,
   "metadata": {},
   "outputs": [
    {
     "name": "stdout",
     "output_type": "stream",
     "text": [
      "{'name': 'Milk', 'Price': 25, 'weight': '1 l'}\n",
      "{'name': 'Milky', 'Price': 25786, 'weight': '1 l'}\n"
     ]
    }
   ],
   "source": [
    "dict_4={\n",
    "    \"name\":\"Ricee\",\n",
    "    \"Price\":250.45,\n",
    "    \"weight\":\"1 kg\"\n",
    "     }\n",
    "\n",
    "dict_5={\n",
    "    \"name\":\"Milk\",\n",
    "    \"Price\":25,\n",
    "    \"weight\":\"1 l\"\n",
    "     }\n",
    "dict_6={\n",
    "    \"name\":\"Milky\",\n",
    "    \"Price\":25786,\n",
    "    \"weight\":\"1 l\"\n",
    "     }\n",
    "\n",
    "\n",
    "\n",
    "dict_4 = dict(dict_5)\n",
    "print(dict_4)\n",
    "\n",
    "dict_5 = dict_6.copy()\n",
    "print(dict_5)\n"
   ]
  },
  {
   "cell_type": "code",
   "execution_count": 199,
   "metadata": {},
   "outputs": [
    {
     "name": "stdout",
     "output_type": "stream",
     "text": [
      "0\n"
     ]
    }
   ],
   "source": [
    "num = 10\n",
    "num -=10\n",
    "print(num)"
   ]
  },
  {
   "cell_type": "code",
   "execution_count": 201,
   "metadata": {},
   "outputs": [
    {
     "name": "stdout",
     "output_type": "stream",
     "text": [
      "False\n",
      "False\n"
     ]
    }
   ],
   "source": [
    "x=5\n",
    "print(x!=5)\n",
    "print(x==6)\n"
   ]
  },
  {
   "cell_type": "code",
   "execution_count": null,
   "metadata": {},
   "outputs": [
    {
     "name": "stdout",
     "output_type": "stream",
     "text": [
      "10\n"
     ]
    }
   ],
   "source": [
    "numm =input(\"Enter number :\")\n",
    "print(num)"
   ]
  },
  {
   "cell_type": "code",
   "execution_count": null,
   "metadata": {},
   "outputs": [
    {
     "data": {
      "text/plain": [
       "True"
      ]
     },
     "execution_count": 208,
     "metadata": {},
     "output_type": "execute_result"
    }
   ],
   "source": [
    "numbers = int(input(\"Enter first number :\"))\n",
    "numbers %7 == 0"
   ]
  },
  {
   "cell_type": "code",
   "execution_count": 223,
   "metadata": {},
   "outputs": [
    {
     "name": "stdout",
     "output_type": "stream",
     "text": [
      "False\n",
      "True\n",
      "True\n"
     ]
    }
   ],
   "source": [
    "y =10\n",
    "t =2\n",
    "print(y>1 and t>10)\n",
    "print(y>1 or t>10)\n",
    "print(not t >10)"
   ]
  },
  {
   "cell_type": "code",
   "execution_count": null,
   "metadata": {},
   "outputs": [
    {
     "name": "stdout",
     "output_type": "stream",
     "text": [
      "True\n"
     ]
    }
   ],
   "source": [
    "num= int(input(\"Enter number\"))\n",
    "print(num % 2 == 1) and (num<100 and num>0)"
   ]
  },
  {
   "cell_type": "code",
   "execution_count": 259,
   "metadata": {},
   "outputs": [
    {
     "name": "stdout",
     "output_type": "stream",
     "text": [
      "False\n"
     ]
    }
   ],
   "source": [
    "x = 1000**10\n",
    "y = 1000**10\n",
    "print(x is y)"
   ]
  },
  {
   "cell_type": "code",
   "execution_count": 262,
   "metadata": {},
   "outputs": [
    {
     "name": "stdout",
     "output_type": "stream",
     "text": [
      "True\n"
     ]
    }
   ],
   "source": [
    "numbs = [10,20,30,10]\n",
    "print(1 not in numbs)"
   ]
  },
  {
   "cell_type": "code",
   "execution_count": 263,
   "metadata": {},
   "outputs": [
    {
     "name": "stdout",
     "output_type": "stream",
     "text": [
      "2\n"
     ]
    }
   ],
   "source": [
    "num1 = 10\n",
    "num2 = 3\n",
    "num3 = num1 & num2\n",
    "print(num3)"
   ]
  },
  {
   "cell_type": "code",
   "execution_count": null,
   "metadata": {},
   "outputs": [
    {
     "name": "stdout",
     "output_type": "stream",
     "text": [
      "Number is Even\n"
     ]
    }
   ],
   "source": [
    "n =12\n",
    "if n % 2 == 0:\n",
    "    print(\"Number is an Even\")\n",
    "else:\n",
    "    print(\"Number is an Odd\")"
   ]
  },
  {
   "cell_type": "code",
   "execution_count": null,
   "metadata": {},
   "outputs": [
    {
     "name": "stdout",
     "output_type": "stream",
     "text": [
      "this is a positive number\n"
     ]
    }
   ],
   "source": [
    "a =10\n",
    "if a<0:\n",
    "    print(\"thsi is a nagative number\")\n",
    "elif a>0:\n",
    "    print(\"this is a positive number\")\n",
    "else:\n",
    "    print(\"value is 0\")\n"
   ]
  },
  {
   "cell_type": "code",
   "execution_count": 281,
   "metadata": {},
   "outputs": [
    {
     "name": "stdout",
     "output_type": "stream",
     "text": [
      "You Have B \n"
     ]
    }
   ],
   "source": [
    "subject =int(input(\"Enter ur subject ;\"))\n",
    "if subject >= 85 and subject <= 100 :\n",
    "    print(\"You Have  A+ Grade\")\n",
    "elif subject <= 75:\n",
    "    print(\"You Have B \")\n",
    "elif subject <= 65:\n",
    "    print(\"You have C\")\n",
    "elif subject <= 55:\n",
    " print(\"You have D\")\n",
    "else :\n",
    "    print(\"You have F\")\n",
    "   \n"
   ]
  },
  {
   "cell_type": "code",
   "execution_count": 292,
   "metadata": {},
   "outputs": [
    {
     "name": "stdout",
     "output_type": "stream",
     "text": [
      "b and c are equally the largest\n"
     ]
    }
   ],
   "source": [
    "a = 10\n",
    "b =100\n",
    "c=100\n",
    "\n",
    "if a == b == c:\n",
    "    print(\"All 3 numbers are equal\")\n",
    "elif a > b and a > c:\n",
    "    print(\"a is bigger\")\n",
    "elif b > a and b > c:\n",
    "    print(\"b is bigger\")\n",
    "elif c > a and c > b:\n",
    "    print(\"c is bigger\")\n",
    "elif a == b and a > c:\n",
    "    print(\"a and b are equally the largest\")\n",
    "elif a == c and a > b:\n",
    "    print(\"a and c are equally the largest\")\n",
    "elif b == c and b > a:\n",
    "    print(\"b and c are equally the largest\")\n",
    "else:\n",
    "    print(\"no single largerst number\")\n",
    "\n",
    "   \n"
   ]
  },
  {
   "cell_type": "code",
   "execution_count": null,
   "metadata": {},
   "outputs": [
    {
     "name": "stdout",
     "output_type": "stream",
     "text": [
      "Even\n"
     ]
    }
   ],
   "source": [
    "x =10\n",
    "result = \"Even\" if x % 2 == 0 else \"Odd\" # Ternary Operator\n",
    "print(result)"
   ]
  },
  {
   "cell_type": "code",
   "execution_count": 8,
   "metadata": {},
   "outputs": [
    {
     "name": "stdout",
     "output_type": "stream",
     "text": [
      "ok\n"
     ]
    }
   ],
   "source": [
    "x =int(input(\"enter ur number\"))\n",
    "# x = \"ok\" if x % 3 == 0 and x % 2 == 0 else \"not oky\"\n",
    "x = \"ok\" if x % 6 == 0 else \"not oky\"\n",
    "print(x)"
   ]
  },
  {
   "cell_type": "code",
   "execution_count": 12,
   "metadata": {},
   "outputs": [
    {
     "name": "stdout",
     "output_type": "stream",
     "text": [
      "ok\n"
     ]
    }
   ],
   "source": [
    "#switch case\n",
    "response_code = int(input(\"Enter value :\"))\n",
    "match response_code :\n",
    "    case 200 :\n",
    "        print(\"ok\")\n",
    "    case 201 :\n",
    "        print(\"created\")\n",
    "    case 404 :\n",
    "        print (\"not okay\")\n",
    "    case 500 :\n",
    "        print(\"Internal server error\")\n",
    "    case _:\n",
    "        print(\"nothing\")\n",
    "\n"
   ]
  },
  {
   "cell_type": "code",
   "execution_count": null,
   "metadata": {},
   "outputs": [
    {
     "name": "stdout",
     "output_type": "stream",
     "text": [
      "postiviev greater than one\n"
     ]
    }
   ],
   "source": [
    "x = int(input(\"Enter value :\"))\n",
    "match x :\n",
    "    case 0 :\n",
    "        print(\"Zero\")\n",
    "    case -1 :\n",
    "        print (\"negative\")\n",
    "    case  1 :\n",
    "        print (\"positive \")\n",
    "    case _ if x > 1 :\n",
    "        print(\"postive greater than one\")\n",
    "    case _ if -1 > x :\n",
    "        print(\"negative number less than negative one\")\n",
    "    case _:\n",
    "           print(\"not match\")\n",
    "\n"
   ]
  },
  {
   "cell_type": "code",
   "execution_count": 35,
   "metadata": {},
   "outputs": [
    {
     "name": "stdout",
     "output_type": "stream",
     "text": [
      "20\n"
     ]
    }
   ],
   "source": [
    "number = [4,5]\n",
    "match number :\n",
    "    case [a ,b]:\n",
    "      print(a*b)\n",
    "    case [x,y,z]:\n",
    "      print(x+y+z)\n",
    "    case _:\n",
    "      print(\"nothing\")\n",
    "    "
   ]
  },
  {
   "cell_type": "code",
   "execution_count": 38,
   "metadata": {},
   "outputs": [
    {
     "name": "stdout",
     "output_type": "stream",
     "text": [
      "list has 2 elements\n"
     ]
    }
   ],
   "source": [
    "x =[1,3]\n",
    "match x:\n",
    "    case []:\n",
    "        print(\"Empty list\")\n",
    "    case [a]:\n",
    "        print(\"list has single elments\")\n",
    "    case [a,b]:\n",
    "         print(\"list has 2 elements\")\n",
    "    case _:\n",
    "        print(\"thsi is somthing else\")"
   ]
  },
  {
   "cell_type": "code",
   "execution_count": 39,
   "metadata": {},
   "outputs": [
    {
     "name": "stdout",
     "output_type": "stream",
     "text": [
      "apple\n",
      "Orange\n"
     ]
    }
   ],
   "source": [
    "# for loop\n",
    "fruits = [\"apple\",\"Orange\"]\n",
    "for item in fruits:\n",
    "    print(item)"
   ]
  },
  {
   "cell_type": "code",
   "execution_count": null,
   "metadata": {},
   "outputs": [
    {
     "name": "stdout",
     "output_type": "stream",
     "text": [
      "[4]\n",
      "[4, 25]\n",
      "[4, 25, 64]\n"
     ]
    }
   ],
   "source": [
    "my_list = [2,5,8]\n",
    "empty_list =[]\n",
    "for num in my_list:\n",
    "    empty_list.append(num ** 2)\n",
    "    print(empty_list)\n",
    "   \n"
   ]
  },
  {
   "cell_type": "code",
   "execution_count": 23,
   "metadata": {},
   "outputs": [
    {
     "data": {
      "text/plain": [
       "[4, 25, 64]"
      ]
     },
     "execution_count": 23,
     "metadata": {},
     "output_type": "execute_result"
    }
   ],
   "source": [
    "[y ** 2 for y in my_list]"
   ]
  },
  {
   "cell_type": "code",
   "execution_count": 27,
   "metadata": {},
   "outputs": [
    {
     "data": {
      "text/plain": [
       "[1, 4, 9, 16, 25, 36, 49, 64, 81, 100]"
      ]
     },
     "execution_count": 27,
     "metadata": {},
     "output_type": "execute_result"
    }
   ],
   "source": [
    "\n",
    "[ a ** 2 for a in range(1,11)]"
   ]
  },
  {
   "cell_type": "code",
   "execution_count": 36,
   "metadata": {},
   "outputs": [
    {
     "data": {
      "text/plain": [
       "[2, 4, 6, 8]"
      ]
     },
     "execution_count": 36,
     "metadata": {},
     "output_type": "execute_result"
    }
   ],
   "source": [
    "\n",
    "[ a for a in range(1,10) if a % 2 == 0]"
   ]
  },
  {
   "cell_type": "code",
   "execution_count": 35,
   "metadata": {},
   "outputs": [
    {
     "data": {
      "text/plain": [
       "[2, 4, 6, 8]"
      ]
     },
     "execution_count": 35,
     "metadata": {},
     "output_type": "execute_result"
    }
   ],
   "source": [
    "[ b for b in range(2,10,2)]"
   ]
  },
  {
   "cell_type": "code",
   "execution_count": 38,
   "metadata": {},
   "outputs": [
    {
     "name": "stdout",
     "output_type": "stream",
     "text": [
      "0 1 2 3 4 End\n"
     ]
    }
   ],
   "source": [
    "m = 5 \n",
    "i = 0\n",
    "while i < m:\n",
    "    print(i,end = \" \")\n",
    "    i = i + 1\n",
    "print (\"End\")"
   ]
  },
  {
   "cell_type": "code",
   "execution_count": null,
   "metadata": {},
   "outputs": [
    {
     "name": "stdout",
     "output_type": "stream",
     "text": [
      "2\n",
      "4\n",
      "6\n",
      "8\n"
     ]
    }
   ],
   "source": [
    "x =int(input(\"enter ur number\"))\n",
    "y =2\n",
    "while y < x:\n",
    "    if y == 10:\n",
    "        break\n",
    "    else:\n",
    "        print(y)\n",
    "        y += 2\n",
    " "
   ]
  },
  {
   "cell_type": "code",
   "execution_count": null,
   "metadata": {},
   "outputs": [
    {
     "name": "stdout",
     "output_type": "stream",
     "text": [
      "10\n"
     ]
    }
   ],
   "source": [
    "total = 0\n",
    "\n",
    "while True:\n",
    "    num =int(input(\"enter ur number\"))\n",
    "    if num == 0:\n",
    "        break\n",
    "    else:\n",
    "        total += num\n",
    "        \n",
    "print(\"Total is \" ,num + total)"
   ]
  },
  {
   "cell_type": "code",
   "execution_count": 70,
   "metadata": {},
   "outputs": [
    {
     "name": "stdout",
     "output_type": "stream",
     "text": [
      "3\n",
      "15\n",
      "9\n",
      "7\n"
     ]
    }
   ],
   "source": [
    "my_list = [3,8,15,10,9,7,14]\n",
    "for item in my_list:\n",
    "    if item % 2 == 0:\n",
    "        continue\n",
    "    else:\n",
    "        print(item)\n",
    "\n",
    "   "
   ]
  },
  {
   "cell_type": "code",
   "execution_count": null,
   "metadata": {},
   "outputs": [
    {
     "name": "stdout",
     "output_type": "stream",
     "text": [
      "3 8 15\n",
      "8 8 15\n"
     ]
    }
   ],
   "source": [
    "my_list = [3,8,15]#unpacking\n",
    "x,y,z = my_list\n",
    "print(x,y,z)\n",
    "x += 5\n",
    "print(x,y,z)"
   ]
  },
  {
   "cell_type": "code",
   "execution_count": null,
   "metadata": {},
   "outputs": [
    {
     "name": "stdout",
     "output_type": "stream",
     "text": [
      "1 2 3\n"
     ]
    }
   ],
   "source": [
    "my_tuple = (1,2,3)\n",
    "x,y,z = my_tuple\n",
    "print(x,y,z)\n"
   ]
  },
  {
   "cell_type": "code",
   "execution_count": 83,
   "metadata": {},
   "outputs": [
    {
     "name": "stdout",
     "output_type": "stream",
     "text": [
      "name Tharu\n",
      "age 20\n",
      "gender male\n",
      "name\n",
      "age\n",
      "gender\n",
      "Tharu\n",
      "20\n",
      "male\n"
     ]
    }
   ],
   "source": [
    "person = {\n",
    "    \"name\":\"Tharu\",\n",
    "    \"age\":20,\n",
    "    \"gender\":\"male\"\n",
    "}\n",
    "for key,value in person.items(): #dictionary unpacking \n",
    "    print(key,value)\n",
    "for key in person:\n",
    "    print(key)\n",
    "for value in person.values():\n",
    "    print(value)\n"
   ]
  },
  {
   "cell_type": "code",
   "execution_count": 84,
   "metadata": {},
   "outputs": [
    {
     "name": "stdout",
     "output_type": "stream",
     "text": [
      "{'name': 'kusal'}\n"
     ]
    }
   ],
   "source": [
    "dict_1 = {\n",
    "    \"name\":\"Tharu\",   \n",
    "}\n",
    "dict_2 = {\n",
    "    \"name\":\"kusal\",\n",
    "}\n",
    "print(dict_1 | dict_2)"
   ]
  },
  {
   "cell_type": "code",
   "execution_count": 92,
   "metadata": {},
   "outputs": [
    {
     "name": "stdout",
     "output_type": "stream",
     "text": [
      "not found\n",
      "20\n"
     ]
    }
   ],
   "source": [
    "dict_3 = {\n",
    "    \"name\":\"Tharu\",\n",
    "    \"age\":20 ,   \n",
    "    \"gender\":\"female\"\n",
    "}\n",
    "print(dict_3.get(\"address\",\"not found\"))\n",
    "print(dict_3.get(\"age\"))\n",
    "\n"
   ]
  },
  {
   "cell_type": "code",
   "execution_count": null,
   "metadata": {},
   "outputs": [
    {
     "name": "stdout",
     "output_type": "stream",
     "text": [
      "5\n"
     ]
    }
   ],
   "source": [
    "def add(num1,num2):\n",
    "    return num1 + num2\n",
    "print(add(2,3))#positional arguments"
   ]
  },
  {
   "cell_type": "code",
   "execution_count": 97,
   "metadata": {},
   "outputs": [
    {
     "name": "stdout",
     "output_type": "stream",
     "text": [
      "78.5\n"
     ]
    }
   ],
   "source": [
    "PI = 3.14\n",
    "def area_of_circle(radius):\n",
    "    return PI * radius ** 2\n",
    "print(area_of_circle(5))\n",
    " "
   ]
  },
  {
   "cell_type": "code",
   "execution_count": null,
   "metadata": {},
   "outputs": [
    {
     "name": "stdout",
     "output_type": "stream",
     "text": [
      "4.571428571428571\n"
     ]
    }
   ],
   "source": [
    "my_list = [1,2,3,5,6,7,8]\n",
    "def avarage(my_list):\n",
    "    return sum(my_list)/len(my_list)\n",
    "print(avarage(my_list))"
   ]
  },
  {
   "cell_type": "code",
   "execution_count": 101,
   "metadata": {},
   "outputs": [
    {
     "name": "stdout",
     "output_type": "stream",
     "text": [
      "[2, 5, 8, 9]\n",
      "[2, 9]\n",
      "[10, 5, 9, 13]\n"
     ]
    }
   ],
   "source": [
    "my_list = [10,2,5,8,9,11,13]\n",
    "print(my_list[1:5:1])\n",
    "print(my_list[1:5:3])\n",
    "print(my_list[::2])"
   ]
  },
  {
   "cell_type": "code",
   "execution_count": null,
   "metadata": {},
   "outputs": [
    {
     "name": "stdout",
     "output_type": "stream",
     "text": [
      "5\n",
      "7\n"
     ]
    }
   ],
   "source": [
    "def add_number(a,b=5):#default argument\n",
    "    return a + b+c\n",
    "print(add_number(2,3))\n",
    "print(add_number(2))\n",
    "\n"
   ]
  },
  {
   "cell_type": "code",
   "execution_count": null,
   "metadata": {},
   "outputs": [],
   "source": [
    "def add_number(a,b,c=5):\n",
    "    return a + b + c\n",
    "print(add_number(a = 2,b = 3,c = 4))#keyword argument"
   ]
  },
  {
   "cell_type": "code",
   "execution_count": 108,
   "metadata": {},
   "outputs": [
    {
     "name": "stdout",
     "output_type": "stream",
     "text": [
      "495.0\n"
     ]
    }
   ],
   "source": [
    "def calculate_total_cost(item_price,quantity,discount=0,tax=0):\n",
    "    total_cost = item_price * quantity\n",
    "    discount = total_cost * discount / 100\n",
    "    if discount > 0:\n",
    "        total_cost -= discount\n",
    "    if tax > 0:\n",
    "        tax = total_cost * tax / 100\n",
    "        total_cost += tax\n",
    "    return total_cost\n",
    "print(calculate_total_cost(100,5,discount=10,tax=10))"
   ]
  },
  {
   "cell_type": "code",
   "execution_count": 7,
   "metadata": {},
   "outputs": [
    {
     "data": {
      "text/plain": [
       "58"
      ]
     },
     "execution_count": 7,
     "metadata": {},
     "output_type": "execute_result"
    }
   ],
   "source": [
    "#Arbitary postional arguments\n",
    "def sum_of_numbers(*nums):\n",
    "    total =0\n",
    "    for num in nums:\n",
    "        total += num\n",
    "    return total\n",
    "sum_of_numbers(5,10,15,20,8)"
   ]
  },
  {
   "cell_type": "code",
   "execution_count": 2,
   "metadata": {},
   "outputs": [
    {
     "name": "stdout",
     "output_type": "stream",
     "text": [
      "(1, 2, 3, 4, 5, 6, 7, 8, 9, 10, 11, 12, 13, 14, 15) <class 'tuple'>\n"
     ]
    }
   ],
   "source": [
    "def arbitary_positional_arguments(*args):\n",
    "    print(args,type(args))\n",
    "arbitary_positional_arguments(1,2,3,4,5,6,7,8,9,10,11,12,13,14,15)"
   ]
  },
  {
   "cell_type": "code",
   "execution_count": null,
   "metadata": {},
   "outputs": [
    {
     "name": "stdout",
     "output_type": "stream",
     "text": [
      "2\n",
      "4\n",
      "6\n",
      "8\n",
      "10\n",
      "12\n",
      "14\n",
      "16\n",
      "18\n",
      "20\n"
     ]
    }
   ],
   "source": [
    "def check_number(*args):\n",
    "    for num in args:\n",
    "        if num % 2 == 0:\n",
    "            print(num)\n",
    "check_number(1,2,3,4,5,6,7,8,9,10,11,12,13,14,15,16,17,18,19,20)"
   ]
  },
  {
   "cell_type": "code",
   "execution_count": 21,
   "metadata": {},
   "outputs": [
    {
     "name": "stdout",
     "output_type": "stream",
     "text": [
      "Kusal\n",
      "Grades :  (1, 2, 3, 4, 5, 6, 7, 8, 9, 10, 11, 12, 13, 14, 15, 16, 17, 18, 19, 20)\n",
      "Average :  10.5\n",
      "Highest :  20\n",
      "Lowest :  1\n",
      "Tharu\n",
      "No grades found\n"
     ]
    }
   ],
   "source": [
    "def summerize_grades(name,*grades):\n",
    "    print(name)\n",
    "    #if not in grades:\n",
    "    if(len(grades)==0):\n",
    "        print(\"No grades found\")\n",
    "        return\n",
    "    print(\"Grades : \",grades)\n",
    "    print(\"Average : \",sum(grades)/len(grades))\n",
    "    print(\"Highest : \",max(grades))\n",
    "    print(\"Lowest : \",min(grades))\n",
    "summerize_grades(\"Kusal\",1,2,3,4,5,6,7,8,9,10,11,12,13,14,15,16,17,18,19,20)\n",
    "summerize_grades(\"Tharu\")\n",
    "    "
   ]
  },
  {
   "cell_type": "code",
   "execution_count": 22,
   "metadata": {},
   "outputs": [
    {
     "name": "stdout",
     "output_type": "stream",
     "text": [
      "{'name': 'Tharu', 'age': 20, 'gender': 'male'} <class 'dict'>\n"
     ]
    }
   ],
   "source": [
    "#Arbitary keyword arguments\n",
    "def arbitary_keyword_arguments(**kwargs):\n",
    "    print(kwargs,type(kwargs))\n",
    "arbitary_keyword_arguments(name=\"Tharu\",age=20,gender=\"male\")\n"
   ]
  },
  {
   "cell_type": "code",
   "execution_count": 31,
   "metadata": {},
   "outputs": [
    {
     "name": "stdout",
     "output_type": "stream",
     "text": [
      "num1 5\n",
      "num2 10\n",
      "num3 1\n"
     ]
    },
    {
     "data": {
      "text/plain": [
       "16"
      ]
     },
     "execution_count": 31,
     "metadata": {},
     "output_type": "execute_result"
    }
   ],
   "source": [
    "def sum_of_numbers(**kwargs):\n",
    "    total =0\n",
    "    for key,value in kwargs.items():\n",
    "        total += value\n",
    "        print(key,value)\n",
    "    return total\n",
    "sum_of_numbers(num1=5,num2=10,num3=1) "
   ]
  },
  {
   "cell_type": "code",
   "execution_count": 32,
   "metadata": {},
   "outputs": [
    {
     "name": "stdout",
     "output_type": "stream",
     "text": [
      "num2 2\n",
      "num4 4\n",
      "num6 6\n",
      "num8 8\n",
      "num10 10\n"
     ]
    }
   ],
   "source": [
    "def check_number(**kwargs):\n",
    "    for key,value in kwargs.items():\n",
    "        if value % 2 == 0:\n",
    "            print(key,value)\n",
    "check_number(num1=1,num2=2,num3=3,num4=4,num5=5,num6=6,num7=7,num8=8,num9=9,num10=10)"
   ]
  },
  {
   "cell_type": "code",
   "execution_count": 36,
   "metadata": {},
   "outputs": [
    {
     "name": "stdout",
     "output_type": "stream",
     "text": [
      "Tharu\n",
      "English 80\n",
      "\n",
      "\n",
      "Average :  90.0\n",
      "Highest :  100\n",
      "Lowest :  80\n",
      "Maths 90\n",
      "\n",
      "\n",
      "Average :  90.0\n",
      "Highest :  100\n",
      "Lowest :  80\n",
      "Science 100\n",
      "\n",
      "\n",
      "Average :  90.0\n",
      "Highest :  100\n",
      "Lowest :  80\n"
     ]
    }
   ],
   "source": [
    "def subjects(name,**subjects):\n",
    "    print(name)\n",
    "    for key,value in subjects.items():\n",
    "        print(key,value)\n",
    "        print(\"\\n\")\n",
    "        print(\"Average : \",sum(subjects.values())/len(subjects))\n",
    "        print(\"Highest : \",max(subjects.values()))\n",
    "        print(\"Lowest : \",min(subjects.values()))\n",
    "\n",
    "subjects(\"Tharu\",English=80,Maths=90,Science=100)\n"
   ]
  },
  {
   "cell_type": "code",
   "execution_count": null,
   "metadata": {},
   "outputs": [
    {
     "name": "stdout",
     "output_type": "stream",
     "text": [
      "key : address value : Kandy\n",
      "key : age value : 20\n",
      "key : gender value : male\n"
     ]
    },
    {
     "data": {
      "text/plain": [
       "{'name': 'Kamal', 'address': 'Kandy', 'age': 20, 'gender': 'male'}"
      ]
     },
     "execution_count": 59,
     "metadata": {},
     "output_type": "execute_result"
    }
   ],
   "source": [
    "#write a python function employee_info that accept a required 'name' and arbitary number of keyword  argumnet representing aditonallly details about the employees\n",
    "#the function should print the employee name iterate through the keyword arguments and print the each key value pair in the format <key> : <value>\n",
    "#return a dictinary with all the employees details\n",
    "\n",
    "def employee_info(name,**info):\n",
    "   if not info:\n",
    "        print(\"No details found\")\n",
    "        return\n",
    "   \n",
    "   for key,value in info.items():\n",
    "        print(f\"key : {key} value : {value}\")\n",
    "\n",
    "#    dict_1 = {\n",
    "#     \"name\":name,\n",
    "#     **info\n",
    "#     }\n",
    "#    return dict_1\n",
    "   return{\"name\":name,**info}\n",
    "employee_info(\"Kamal\",address=\"Kandy\",age=20,gender=\"male\")"
   ]
  },
  {
   "cell_type": "code",
   "execution_count": 68,
   "metadata": {},
   "outputs": [
    {
     "name": "stdout",
     "output_type": "stream",
     "text": [
      "<map object at 0x108695270> <class 'map'>\n",
      "[1, 4, 9, 16, 25, 36, 49, 64, 81, 100] <class 'type'>\n"
     ]
    }
   ],
   "source": [
    "#python building functions\n",
    "#advantages of functions\n",
    "#code reusability\n",
    "#modularity\n",
    "#readability\n",
    "#maintainability\n",
    "#Map function\n",
    "#why we use map function\n",
    "#syntax\n",
    "#map(function_name,iterable)\n",
    "#map(function_name,iterable,iterable)\n",
    "\n",
    "def square(num):\n",
    "    return num ** 2\n",
    "my_list = [1,2,3,4,5,6,7,8,9,10]\n",
    "squared_list = map(square,my_list)\n",
    "print(squared_list,type(squared_list))\n",
    "squared_list = list(map(square,my_list))\n",
    "print(squared_list,type)\n",
    "\n"
   ]
  },
  {
   "cell_type": "code",
   "execution_count": 76,
   "metadata": {},
   "outputs": [
    {
     "name": "stdout",
     "output_type": "stream",
     "text": [
      "[60, 22, 33, 44, 55, 66, 77, 88, 99, 145]\n"
     ]
    }
   ],
   "source": [
    "my_list = [50,2,3,4,5,6,7,8,9,45]\n",
    "coresponding_list = [10,20,30,40,50,60,70,80,90,100]\n",
    "sum_list = map(sum,my_list,coresponding_list)\n",
    "print(list(sum_list))"
   ]
  },
  {
   "cell_type": "code",
   "execution_count": 80,
   "metadata": {},
   "outputs": [
    {
     "name": "stdout",
     "output_type": "stream",
     "text": [
      "[82.4, 86.0, 77.0, 104.0, 122.0]\n"
     ]
    }
   ],
   "source": [
    "#you have a list og intergers represting temperature in celcius \n",
    "#temparature = [28,30,25,40,50]\n",
    "# write a temerature in fahrenheit\n",
    "# use the formula , fahrenheit = (celcius * 9/5) + 32 \n",
    "\n",
    "def celcius_to_fahrenheit(celcius):\n",
    "    fahrenheit = (celcius * 9/5) + 32\n",
    "    return fahrenheit\n",
    "temparature = [28,30,25,40,50]\n",
    "fahrenheit = map(celcius_to_fahrenheit,temparature) \n",
    "print(list(fahrenheit))\n"
   ]
  },
  {
   "cell_type": "code",
   "execution_count": 93,
   "metadata": {},
   "outputs": [
    {
     "name": "stdout",
     "output_type": "stream",
     "text": [
      "<class 'filter'>\n",
      "[2, 4, 6, 8, 10]\n",
      "[14, 62, 4, 6, 8, 10]\n"
     ]
    }
   ],
   "source": [
    "#filter function\n",
    "#syntax\n",
    "#filter(function_name,iterable)\n",
    "#can pass only one iterable and function only can return a boolean\n",
    "\n",
    "def is_even(num):\n",
    "    return num % 2 == 0\n",
    "\n",
    "my_list = [1,2,3,4,5,6,7,8,9,10]\n",
    "even_list = filter(is_even,my_list)\n",
    "print(type(even_list))\n",
    "print(list(even_list))\n",
    "print(list(filter(is_even,[14,62,3,4,5,6,7,8,9,10])))\n"
   ]
  },
  {
   "cell_type": "code",
   "execution_count": 103,
   "metadata": {},
   "outputs": [
    {
     "name": "stdout",
     "output_type": "stream",
     "text": [
      "13\n"
     ]
    }
   ],
   "source": [
    "#python Lambda function / anyonymous function\n",
    "#syntax\n",
    "#lambda arguments : expression\n",
    "#example\n",
    "#lambda x : x+5\n",
    "#lambda x,y : x+y\n",
    "#lambda x,y,z : x+y+z\n",
    "#lambda *args : sum(args)\n",
    "#lambda **kwargs : sum(kwargs.values())\n",
    "#lambda *args, **kwargs : sum(kwargs.values())\n",
    "#add = lambda x,y,z : x+y+z\n",
    "#print(add(2,3,8))\n",
    "result =(lambda x,y,z: x+y+z)(2,3,8)\n",
    "print(result)"
   ]
  },
  {
   "cell_type": "code",
   "execution_count": null,
   "metadata": {},
   "outputs": [
    {
     "name": "stdout",
     "output_type": "stream",
     "text": [
      "[('Tharu', 20), ('Kusal', 25), ('Sameera', 30)]\n"
     ]
    }
   ],
   "source": [
    "#write a programe :\n",
    "#1.take a list of tuples, where each tuple contains a name (string) and an age (integer).\n",
    "#2.use a lambda function to filter up a tuples where the age is less  than 18.\n",
    "#3.print the list of tuples after filtering \n",
    "\n",
    "human =[(\"Tharu\",20),( \"Kusal\", 25),(\"Sameera\",30),(\"Ashi\",15)]\n",
    "\n",
    "print(list(filter(lambda x: x[1] > 18, human)))\n"
   ]
  },
  {
   "cell_type": "code",
   "execution_count": null,
   "metadata": {},
   "outputs": [
    {
     "name": "stdout",
     "output_type": "stream",
     "text": [
      "-10\n"
     ]
    }
   ],
   "source": [
    "def myfunc(n):\n",
    "  return lambda a : a * n\n",
    "\n",
    "mydoubler = myfunc(20)\n",
    "\n",
    "print(mydoubler(10))"
   ]
  },
  {
   "cell_type": "code",
   "execution_count": 115,
   "metadata": {},
   "outputs": [
    {
     "data": {
      "text/plain": [
       "280"
      ]
     },
     "execution_count": 115,
     "metadata": {},
     "output_type": "execute_result"
    }
   ],
   "source": [
    "#write lambda function retunt maximum value\n",
    "\n",
    "find_max = lambda a,b: a if a > b else b\n",
    "find_max(100,280)"
   ]
  },
  {
   "cell_type": "code",
   "execution_count": 125,
   "metadata": {},
   "outputs": [
    {
     "name": "stdout",
     "output_type": "stream",
     "text": [
      "1\n"
     ]
    }
   ],
   "source": [
    "#find factorial number not using recursion\n",
    "\n",
    "def find_factorial(n):\n",
    "    if n == 0:\n",
    "        return 1\n",
    "    fact = 1\n",
    "    for i in range(1,n+1):\n",
    "        fact = fact * i\n",
    "    return fact \n",
    "\n",
    "print(find_factorial(0))\n",
    "   \n",
    "    "
   ]
  },
  {
   "cell_type": "code",
   "execution_count": null,
   "metadata": {},
   "outputs": [
    {
     "name": "stdout",
     "output_type": "stream",
     "text": [
      "2\n"
     ]
    }
   ],
   "source": [
    "#recursion Error can be occur in recursion so we have to use base case ,maximum deepth of recursion is 1000\n",
    "def factorial(n):\n",
    "    if n == 0 or n ==1:#casue 0! = 1\n",
    "        return 1\n",
    "    return n * factorial(n-1)#n! = n * (n-1)! \n",
    "print(factorial(2))"
   ]
  },
  {
   "cell_type": "code",
   "execution_count": null,
   "metadata": {},
   "outputs": [],
   "source": [
    "#calculate the sum of all the elements in an arry or list\n",
    "\n",
    "def sum_list(my_list):\n",
    "    if len(my_list) == 0:\n",
    "        return 0\n",
    "    return my_list[0] + sum_list(my_list[1:])\n",
    "\n",
    "print(sum_list([1,2,3,4,5,6,7,8,9,10]))"
   ]
  },
  {
   "cell_type": "code",
   "execution_count": 1,
   "metadata": {},
   "outputs": [
    {
     "name": "stdout",
     "output_type": "stream",
     "text": [
      "55\n"
     ]
    }
   ],
   "source": [
    "def recursive_sum(my_list):\n",
    "    if not my_list:\n",
    "        return 0\n",
    "    return my_list[0] + recursive_sum(my_list[1:])\n",
    "print(recursive_sum([1,2,3,4,5,6,7,8,9,10]))"
   ]
  },
  {
   "cell_type": "code",
   "execution_count": null,
   "metadata": {},
   "outputs": [],
   "source": [
    "#modules in python"
   ]
  }
 ],
 "metadata": {
  "kernelspec": {
   "display_name": "Python 3",
   "language": "python",
   "name": "python3"
  },
  "language_info": {
   "codemirror_mode": {
    "name": "ipython",
    "version": 3
   },
   "file_extension": ".py",
   "mimetype": "text/x-python",
   "name": "python",
   "nbconvert_exporter": "python",
   "pygments_lexer": "ipython3",
   "version": "3.13.0"
  }
 },
 "nbformat": 4,
 "nbformat_minor": 2
}
